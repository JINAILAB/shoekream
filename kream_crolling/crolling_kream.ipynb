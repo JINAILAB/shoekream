{
 "cells": [
  {
   "cell_type": "code",
   "execution_count": 77,
   "id": "28fef353",
   "metadata": {},
   "outputs": [],
   "source": [
    "from selenium import webdriver\n",
    "from selenium.webdriver.common.keys import Keys\n",
    "import time\n",
    "\n",
    "# 웹드라이버 설정 (예: Chrome)\n",
    "driver = webdriver.Chrome(executable_path='./chromedriver-mac-x64/chromedriver')\n",
    "\n",
    "# 페이지 접속\n",
    "driver.get('https://kream.co.kr/search?shop_category_id=1')"
   ]
  },
  {
   "cell_type": "code",
   "execution_count": 75,
   "id": "a6b6a47c",
   "metadata": {},
   "outputs": [],
   "source": [
    "elements = driver.find_elements_by_css_selector('a.item_inner[href^=\"/products/\"]')\n",
    "for element in elements:\n",
    "    href_value = element.get_attribute('href')\n",
    "    print(href_value)"
   ]
  },
  {
   "cell_type": "code",
   "execution_count": 76,
   "id": "e44fe032",
   "metadata": {},
   "outputs": [
    {
     "data": {
      "text/plain": [
       "100"
      ]
     },
     "execution_count": 76,
     "metadata": {},
     "output_type": "execute_result"
    }
   ],
   "source": [
    "len(elements)"
   ]
  },
  {
   "cell_type": "code",
   "execution_count": 79,
   "id": "5a2535d4",
   "metadata": {},
   "outputs": [
    {
     "name": "stdout",
     "output_type": "stream",
     "text": [
      "150\n",
      "<selenium.webdriver.remote.webelement.WebElement (session=\"184cc7df83fc2daf48f880a394875c9c\", element=\"B7984DBE4D9C6C41B1B945A7A4C58C07_element_63\")>\n",
      "200\n",
      "<selenium.webdriver.remote.webelement.WebElement (session=\"184cc7df83fc2daf48f880a394875c9c\", element=\"B7984DBE4D9C6C41B1B945A7A4C58C07_element_63\")>\n",
      "250\n",
      "<selenium.webdriver.remote.webelement.WebElement (session=\"184cc7df83fc2daf48f880a394875c9c\", element=\"B7984DBE4D9C6C41B1B945A7A4C58C07_element_63\")>\n",
      "250\n",
      "<selenium.webdriver.remote.webelement.WebElement (session=\"184cc7df83fc2daf48f880a394875c9c\", element=\"B7984DBE4D9C6C41B1B945A7A4C58C07_element_63\")>\n",
      "250\n",
      "<selenium.webdriver.remote.webelement.WebElement (session=\"184cc7df83fc2daf48f880a394875c9c\", element=\"B7984DBE4D9C6C41B1B945A7A4C58C07_element_63\")>\n",
      "250\n",
      "<selenium.webdriver.remote.webelement.WebElement (session=\"184cc7df83fc2daf48f880a394875c9c\", element=\"B7984DBE4D9C6C41B1B945A7A4C58C07_element_63\")>\n",
      "250\n",
      "<selenium.webdriver.remote.webelement.WebElement (session=\"184cc7df83fc2daf48f880a394875c9c\", element=\"B7984DBE4D9C6C41B1B945A7A4C58C07_element_63\")>\n",
      "250\n",
      "<selenium.webdriver.remote.webelement.WebElement (session=\"184cc7df83fc2daf48f880a394875c9c\", element=\"B7984DBE4D9C6C41B1B945A7A4C58C07_element_63\")>\n",
      "300\n",
      "<selenium.webdriver.remote.webelement.WebElement (session=\"184cc7df83fc2daf48f880a394875c9c\", element=\"B7984DBE4D9C6C41B1B945A7A4C58C07_element_63\")>\n",
      "300\n",
      "<selenium.webdriver.remote.webelement.WebElement (session=\"184cc7df83fc2daf48f880a394875c9c\", element=\"B7984DBE4D9C6C41B1B945A7A4C58C07_element_63\")>\n"
     ]
    }
   ],
   "source": [
    "scroll_times = 10\n",
    "kream_product_ls = []\n",
    "for i in range(scroll_times):\n",
    "    # 페이지의 맨 아래로 스크롤\n",
    "    driver.execute_script(\"window.scrollTo(0, document.body.scrollHeight);\")\n",
    "    # 새로운 내용이 로딩되기를 기다림\n",
    "    time.sleep(5)\n",
    "    \n",
    "    elements = driver.find_elements_by_css_selector('a.item_inner[href^=\"/products/\"]')\n",
    "    print(len(elements))\n",
    "    print(elements[0])"
   ]
  },
  {
   "cell_type": "code",
   "execution_count": 88,
   "id": "adf745d8",
   "metadata": {},
   "outputs": [],
   "source": [
    "import requests\n",
    "\n",
    "url = \"https://kream.co.kr/api/p/tabs/all/?cursor=1&shop_category_id=1&request_key=4bb0bab2-fc50-4085-9b8a-6231439cb07e\"\n",
    "\n",
    "headers = {\n",
    "    \"Accept\": \"application/json, text/plain, */*\",\n",
    "    \"User-Agent\": \"Mozilla/5.0 (Macintosh; Intel Mac OS X 10_15_7) AppleWebKit/537.36 (KHTML, like Gecko) Chrome/116.0.0.0 Safari/537.36\",\n",
    "    \"Referer\": \"https://kream.co.kr/search?shop_category_id=34\",\n",
    "    \"X-Kream-Api-Version\": \"21\",\n",
    "    \"X-Kream-Client-Datetime\": \"20230907095353+0900\",\n",
    "    \"X-Kream-Device-Id\": \"web;03979551-0f79-4dd3-a053-204bf2a61b9c\"\n",
    "    # 필요한 나머지 헤더들을 추가하세요\n",
    "}\n",
    "\n",
    "response = requests.get(url, headers=headers)\n",
    "\n",
    "# JSON 데이터 파싱\n",
    "data = response.json()"
   ]
  },
  {
   "cell_type": "code",
   "execution_count": 90,
   "id": "51d4ae07",
   "metadata": {},
   "outputs": [
    {
     "name": "stdout",
     "output_type": "stream",
     "text": [
      "cursor\n",
      "per_page\n",
      "next_cursor\n",
      "prev_cursor\n",
      "total\n",
      "sort\n",
      "sorting\n",
      "list_display_type\n",
      "filters\n",
      "items\n",
      "tab\n",
      "tabs\n"
     ]
    }
   ],
   "source": [
    "for i in data:\n",
    "    print(i)"
   ]
  },
  {
   "cell_type": "code",
   "execution_count": 95,
   "id": "c481b3f6",
   "metadata": {},
   "outputs": [
    {
     "data": {
      "text/plain": [
       "32112"
      ]
     },
     "execution_count": 95,
     "metadata": {},
     "output_type": "execute_result"
    }
   ],
   "source": [
    "data['total']"
   ]
  },
  {
   "cell_type": "code",
   "execution_count": 96,
   "id": "69508568",
   "metadata": {},
   "outputs": [
    {
     "data": {
      "text/plain": [
       "'B'"
      ]
     },
     "execution_count": 96,
     "metadata": {},
     "output_type": "execute_result"
    }
   ],
   "source": [
    "data['list_display_type']"
   ]
  },
  {
   "cell_type": "code",
   "execution_count": 99,
   "id": "e39a94e1",
   "metadata": {},
   "outputs": [
    {
     "data": {
      "text/plain": [
       "53"
      ]
     },
     "execution_count": 99,
     "metadata": {},
     "output_type": "execute_result"
    }
   ],
   "source": [
    "len(data['items'])"
   ]
  },
  {
   "cell_type": "code",
   "execution_count": 100,
   "id": "ff2971a3",
   "metadata": {},
   "outputs": [
    {
     "data": {
      "text/plain": [
       "{'display_type': 'product',\n",
       " 'product': {'release': {'id': 21935,\n",
       "   'name': \"Nike Air Force 1 '07 WB Flax\",\n",
       "   'translated_name': \"나이키 에어포스 1 '07 WB 플랙스\",\n",
       "   'category': 'sneakers',\n",
       "   'image_urls': ['https://kream-phinf.pstatic.net/MjAyMjA4MDFfMTIx/MDAxNjU5MzQwODMzMDc3.PzhWN_CoGllmWG7XgAaifLpEXzt6mI_koqrP43iaEUEg.ESuJOcRJB9Ox4pObNyTz2hv-isp0iuzHNGy-LAZy7esg.PNG/a_ad597a3bae0f4eaaada28e57b1ab6592.png',\n",
       "    'https://kream-phinf.pstatic.net/MjAyMjA4MDFfNzIg/MDAxNjU5MzQwODMzMTA5.dmDlCeIsDEgdNhfFP6Vtj2BzwyrLvUWq8oeyz-Bqo2kg.YnvoBzzA8fxKywEUpzRx-Bvt7Z4Isf0rzin036I6MtAg.PNG/a_71b35c28a6194bacad3ef97b191736fd.png',\n",
       "    'https://kream-phinf.pstatic.net/MjAyMjA4MDFfMiAg/MDAxNjU5MzQwODMzMTc2.q1SbkdFzWRveQO51M5_a1Mx6qCHzFhhvYJlCwUw8zpsg.G-B0AdIrgpFOy-2q9k7bDQXkUAw2CfesthRN7sjjJ6kg.PNG/a_ed435c905e134999b604811787c9edd7.png',\n",
       "    'https://kream-phinf.pstatic.net/MjAyMjA4MDFfNjEg/MDAxNjU5MzQwODMzMTE2.wn7ED53hUgDe71wcUryNP_K8m1Qc0UHGcryq9LaTIHAg.O8SHvmb2joXG6dUW3-hM7LIxj_7-FfvpDPg339vwXkcg.PNG/a_6c6d1537c7ac49b2ba42e8557cdce5cb.png'],\n",
       "   'original_price': 169000,\n",
       "   'original_price_currency': 'KRW',\n",
       "   'local_price': None,\n",
       "   'local_price_currency': 'KRW',\n",
       "   'original_price_with_currency': '169,000원',\n",
       "   'local_price_with_currency': None,\n",
       "   'style_code': 'CJ9179-200',\n",
       "   'colorway': 'Flax/Gum/Light Brown/Black/Wheat',\n",
       "   'date_released': '2019-09-09T23:59:59Z',\n",
       "   'gender': 'men',\n",
       "   'season': None,\n",
       "   'bgcolor': '#ebf0f5',\n",
       "   'is_active': True,\n",
       "   'is_tradable': True,\n",
       "   'is_for_adult': False},\n",
       "  'market': {'market_price': 285000.0,\n",
       "   'last_sale_price': 285000.0,\n",
       "   'lowest_ask': 160000.0,\n",
       "   'highest_bid': 270000.0,\n",
       "   'total_sales': None,\n",
       "   'change_value': 104000.0,\n",
       "   'change_percentage': 57.4586,\n",
       "   'pricepremium': 116000.0,\n",
       "   'pricepremium_percentage': 68.6391,\n",
       "   'has_immediate_delivery_item': True,\n",
       "   'inventory_service_available': True},\n",
       "  'me': {'wish': False, 'wish_options': []},\n",
       "  'brand': {'name': 'Nike',\n",
       "   'logo': '',\n",
       "   'type': 'brand',\n",
       "   'id': 4,\n",
       "   'meta': {'bgcolor': '#ebf0f5'},\n",
       "   'business_name': ''},\n",
       "  'options': ['220',\n",
       "   '225',\n",
       "   '230',\n",
       "   '235',\n",
       "   '240',\n",
       "   '245',\n",
       "   '250',\n",
       "   '255',\n",
       "   '260',\n",
       "   '265',\n",
       "   '270',\n",
       "   '275',\n",
       "   '280',\n",
       "   '285',\n",
       "   '290',\n",
       "   '295',\n",
       "   '300',\n",
       "   '305',\n",
       "   '310',\n",
       "   '320'],\n",
       "  'selected_option': None,\n",
       "  'event': None,\n",
       "  'counter': {'wish_count': 119173, 'have_count': 0, 'review_count': 3065},\n",
       "  'additional_info': {'is_wishable': True},\n",
       "  'sale_info': None,\n",
       "  'badge': {'tags': [{'tag': '빠른배송',\n",
       "     'tag_color': '#31B46E',\n",
       "     'border_color': None,\n",
       "     'background_color': '#F2F9F6',\n",
       "     'icon_url': 'https://kream-phinf.pstatic.net/MjAyMjA4MTlfMjQg/MDAxNjYwODg3Mjk2NzI3.BrA9HdxKlK4SE_Nv8rSN-enO_kgRJJbWNRSn88dwX-sg.HSU5wh9arezj6oeAUj0Ju3e_Atzp4i9BNdZxeHeaw4sg.PNG/a_82699e0f38f24003897bcfc6ee5c84eb.png'}]}}}"
      ]
     },
     "execution_count": 100,
     "metadata": {},
     "output_type": "execute_result"
    }
   ],
   "source": [
    "data['items'][0]['product']['release']"
   ]
  },
  {
   "cell_type": "code",
   "execution_count": 101,
   "id": "836a557b",
   "metadata": {},
   "outputs": [
    {
     "data": {
      "text/plain": [
       "\"Nike Air Force 1 '07 WB Flax\""
      ]
     },
     "execution_count": 101,
     "metadata": {},
     "output_type": "execute_result"
    }
   ],
   "source": [
    "data['items'][0]['product']['release']['name']"
   ]
  },
  {
   "cell_type": "code",
   "execution_count": 102,
   "id": "65ae2841",
   "metadata": {},
   "outputs": [
    {
     "data": {
      "text/plain": [
       "'sneakers'"
      ]
     },
     "execution_count": 102,
     "metadata": {},
     "output_type": "execute_result"
    }
   ],
   "source": [
    "data['items'][0]['product']['release']['category']"
   ]
  },
  {
   "cell_type": "code",
   "execution_count": 104,
   "id": "cecf954e",
   "metadata": {},
   "outputs": [
    {
     "data": {
      "text/plain": [
       "['https://kream-phinf.pstatic.net/MjAyMjA4MDFfMTIx/MDAxNjU5MzQwODMzMDc3.PzhWN_CoGllmWG7XgAaifLpEXzt6mI_koqrP43iaEUEg.ESuJOcRJB9Ox4pObNyTz2hv-isp0iuzHNGy-LAZy7esg.PNG/a_ad597a3bae0f4eaaada28e57b1ab6592.png',\n",
       " 'https://kream-phinf.pstatic.net/MjAyMjA4MDFfNzIg/MDAxNjU5MzQwODMzMTA5.dmDlCeIsDEgdNhfFP6Vtj2BzwyrLvUWq8oeyz-Bqo2kg.YnvoBzzA8fxKywEUpzRx-Bvt7Z4Isf0rzin036I6MtAg.PNG/a_71b35c28a6194bacad3ef97b191736fd.png',\n",
       " 'https://kream-phinf.pstatic.net/MjAyMjA4MDFfMiAg/MDAxNjU5MzQwODMzMTc2.q1SbkdFzWRveQO51M5_a1Mx6qCHzFhhvYJlCwUw8zpsg.G-B0AdIrgpFOy-2q9k7bDQXkUAw2CfesthRN7sjjJ6kg.PNG/a_ed435c905e134999b604811787c9edd7.png',\n",
       " 'https://kream-phinf.pstatic.net/MjAyMjA4MDFfNjEg/MDAxNjU5MzQwODMzMTE2.wn7ED53hUgDe71wcUryNP_K8m1Qc0UHGcryq9LaTIHAg.O8SHvmb2joXG6dUW3-hM7LIxj_7-FfvpDPg339vwXkcg.PNG/a_6c6d1537c7ac49b2ba42e8557cdce5cb.png']"
      ]
     },
     "execution_count": 104,
     "metadata": {},
     "output_type": "execute_result"
    }
   ],
   "source": [
    "data['items'][0]['product']['release']['image_urls']"
   ]
  },
  {
   "cell_type": "code",
   "execution_count": 105,
   "id": "bf26bffa",
   "metadata": {},
   "outputs": [
    {
     "data": {
      "text/plain": [
       "169000"
      ]
     },
     "execution_count": 105,
     "metadata": {},
     "output_type": "execute_result"
    }
   ],
   "source": [
    "data['items'][0]['product']['release']['original_price']"
   ]
  },
  {
   "cell_type": "code",
   "execution_count": 106,
   "id": "bb0b6584",
   "metadata": {},
   "outputs": [
    {
     "data": {
      "text/plain": [
       "'men'"
      ]
     },
     "execution_count": 106,
     "metadata": {},
     "output_type": "execute_result"
    }
   ],
   "source": [
    "data['items'][0]['product']['release']['gender']"
   ]
  },
  {
   "cell_type": "code",
   "execution_count": 109,
   "id": "08de8f14",
   "metadata": {},
   "outputs": [
    {
     "name": "stdout",
     "output_type": "stream",
     "text": [
      "release\n",
      "market\n",
      "me\n",
      "brand\n",
      "options\n",
      "selected_option\n",
      "event\n",
      "counter\n",
      "additional_info\n",
      "sale_info\n",
      "badge\n"
     ]
    }
   ],
   "source": [
    "for i in data['items'][0]['product']:\n",
    "    print(i)"
   ]
  },
  {
   "cell_type": "code",
   "execution_count": 108,
   "id": "3af0f367",
   "metadata": {},
   "outputs": [
    {
     "name": "stdout",
     "output_type": "stream",
     "text": [
      "id\n",
      "name\n",
      "translated_name\n",
      "category\n",
      "image_urls\n",
      "original_price\n",
      "original_price_currency\n",
      "local_price\n",
      "local_price_currency\n",
      "original_price_with_currency\n",
      "local_price_with_currency\n",
      "style_code\n",
      "colorway\n",
      "date_released\n",
      "gender\n",
      "season\n",
      "bgcolor\n",
      "is_active\n",
      "is_tradable\n",
      "is_for_adult\n"
     ]
    }
   ],
   "source": [
    "for i in data['items'][0]['product']['release']:\n",
    "    print(i)"
   ]
  },
  {
   "cell_type": "code",
   "execution_count": null,
   "id": "5248ff1d",
   "metadata": {},
   "outputs": [],
   "source": [
    "'original_price': 169000,\n",
    "'original_price_currency': 'KRW',\n",
    "'local_price': None,\n",
    "'local_price_currency': 'KRW'"
   ]
  }
 ],
 "metadata": {
  "kernelspec": {
   "display_name": "Python 3 (ipykernel)",
   "language": "python",
   "name": "python3"
  },
  "language_info": {
   "codemirror_mode": {
    "name": "ipython",
    "version": 3
   },
   "file_extension": ".py",
   "mimetype": "text/x-python",
   "name": "python",
   "nbconvert_exporter": "python",
   "pygments_lexer": "ipython3",
   "version": "3.8.12"
  }
 },
 "nbformat": 4,
 "nbformat_minor": 5
}
